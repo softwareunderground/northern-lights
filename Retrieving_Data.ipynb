{
 "cells": [
  {
   "cell_type": "markdown",
   "metadata": {},
   "source": [
    "# Northern lights data retrieval"
   ]
  },
  {
   "cell_type": "markdown",
   "metadata": {},
   "source": [
    "This is part of the CCS Northern lights hackathon project for Transform 2021."
   ]
  },
  {
   "cell_type": "code",
   "execution_count": 3,
   "metadata": {},
   "outputs": [],
   "source": [
    "# Import needed files/packages\n",
    "from input_layer.get_data import GetProjectData\n",
    "import pandas as pd\n"
   ]
  },
  {
   "cell_type": "code",
   "execution_count": 4,
   "metadata": {},
   "outputs": [
    {
     "data": {
      "text/html": [
       "<div>\n",
       "<style scoped>\n",
       "    .dataframe tbody tr th:only-of-type {\n",
       "        vertical-align: middle;\n",
       "    }\n",
       "\n",
       "    .dataframe tbody tr th {\n",
       "        vertical-align: top;\n",
       "    }\n",
       "\n",
       "    .dataframe thead th {\n",
       "        text-align: right;\n",
       "    }\n",
       "</style>\n",
       "<table border=\"1\" class=\"dataframe\">\n",
       "  <thead>\n",
       "    <tr style=\"text-align: right;\">\n",
       "      <th></th>\n",
       "      <th>SourceType</th>\n",
       "      <th>Endpoint</th>\n",
       "      <th>AdditionalConnectionInfo</th>\n",
       "      <th>SourceName</th>\n",
       "      <th>SourceCategory</th>\n",
       "      <th>Description</th>\n",
       "    </tr>\n",
       "  </thead>\n",
       "  <tbody>\n",
       "    <tr>\n",
       "      <th>0</th>\n",
       "      <td>azure_blob</td>\n",
       "      <td>https://datavillagesa.blob.core.windows.net/no...</td>\n",
       "      <td>sv=2018-03-28&amp;sr=c&amp;sig=ySdG6%2BRmccOC1Eg4H0UlV...</td>\n",
       "      <td>31_5-7 Eos/02.Drilling_and_Completion/CORING_2...</td>\n",
       "      <td>Core Report</td>\n",
       "      <td>Operational discussion of the coring data coll...</td>\n",
       "    </tr>\n",
       "  </tbody>\n",
       "</table>\n",
       "</div>"
      ],
      "text/plain": [
       "   SourceType                                           Endpoint  \\\n",
       "0  azure_blob  https://datavillagesa.blob.core.windows.net/no...   \n",
       "\n",
       "                            AdditionalConnectionInfo  \\\n",
       "0  sv=2018-03-28&sr=c&sig=ySdG6%2BRmccOC1Eg4H0UlV...   \n",
       "\n",
       "                                          SourceName SourceCategory  \\\n",
       "0  31_5-7 Eos/02.Drilling_and_Completion/CORING_2...    Core Report   \n",
       "\n",
       "                                         Description  \n",
       "0  Operational discussion of the coring data coll...  "
      ]
     },
     "execution_count": 4,
     "metadata": {},
     "output_type": "execute_result"
    }
   ],
   "source": [
    "# List the available data sources and types\n",
    "df = GetProjectData().list_available_sources()\n",
    "df"
   ]
  },
  {
   "cell_type": "code",
   "execution_count": 2,
   "metadata": {
    "pycharm": {
     "name": "#%%\n"
    }
   },
   "outputs": [
    {
     "name": "stdout",
     "output_type": "stream",
     "text": [
      "page 23 failed!\n",
      "dict_keys([0, 1, 2, 3, 4, 5, 6, 7, 8, 9, 10, 11, 12, 13, 14, 15, 16, 17, 18, 19, 20, 21])\n"
     ]
    }
   ],
   "source": [
    "core_report_text = GetProjectData().get_data_of_type('Core Report')\n",
    "print(core_report_text[0].keys())"
   ]
  },
  {
   "cell_type": "code",
   "execution_count": null,
   "metadata": {},
   "outputs": [],
   "source": []
  }
 ],
 "metadata": {
  "kernelspec": {
   "display_name": "Python 3",
   "language": "python",
   "name": "python3"
  },
  "language_info": {
   "codemirror_mode": {
    "name": "ipython",
    "version": 3
   },
   "file_extension": ".py",
   "mimetype": "text/x-python",
   "name": "python",
   "nbconvert_exporter": "python",
   "pygments_lexer": "ipython3",
   "version": "3.8.2"
  }
 },
 "nbformat": 4,
 "nbformat_minor": 1
}
