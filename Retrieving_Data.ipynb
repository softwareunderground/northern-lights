{
 "cells": [
  {
   "cell_type": "markdown",
   "metadata": {},
   "source": [
    "# Northern lights data retrieval"
   ]
  },
  {
   "cell_type": "markdown",
   "metadata": {},
   "source": [
    "This is part of the CCS Northern lights hackathon project for Transform 2021."
   ]
  },
  {
   "cell_type": "code",
   "execution_count": 1,
   "metadata": {},
   "outputs": [],
   "source": [
    "# Import needed files/packages\n",
    "from input_layer.get_data import GetProjectData\n",
    "import pandas as pd\n"
   ]
  },
  {
   "cell_type": "code",
   "execution_count": 2,
   "metadata": {},
   "outputs": [
    {
     "data": {
      "text/html": [
       "<div>\n",
       "<style scoped>\n",
       "    .dataframe tbody tr th:only-of-type {\n",
       "        vertical-align: middle;\n",
       "    }\n",
       "\n",
       "    .dataframe tbody tr th {\n",
       "        vertical-align: top;\n",
       "    }\n",
       "\n",
       "    .dataframe thead th {\n",
       "        text-align: right;\n",
       "    }\n",
       "</style>\n",
       "<table border=\"1\" class=\"dataframe\">\n",
       "  <thead>\n",
       "    <tr style=\"text-align: right;\">\n",
       "      <th></th>\n",
       "      <th>SourceType</th>\n",
       "      <th>Endpoint</th>\n",
       "      <th>AdditionalConnectionInfo</th>\n",
       "      <th>SourceName</th>\n",
       "      <th>SourceCategory</th>\n",
       "      <th>Description</th>\n",
       "    </tr>\n",
       "  </thead>\n",
       "  <tbody>\n",
       "    <tr>\n",
       "      <th>0</th>\n",
       "      <td>azure_blob</td>\n",
       "      <td>https://datavillagesa.blob.core.windows.net/no...</td>\n",
       "      <td>sv=2018-03-28&amp;sr=c&amp;sig=ySdG6%2BRmccOC1Eg4H0UlV...</td>\n",
       "      <td>31_5-7 Eos/02.Drilling_and_Completion/CORING_2...</td>\n",
       "      <td>Core Report</td>\n",
       "      <td>Operational discussion of the coring data coll...</td>\n",
       "    </tr>\n",
       "    <tr>\n",
       "      <th>1</th>\n",
       "      <td>azure_blob</td>\n",
       "      <td>https://datavillagesa.blob.core.windows.net/no...</td>\n",
       "      <td>sv=2018-03-28&amp;sr=c&amp;sig=ySdG6%2BRmccOC1Eg4H0UlV...</td>\n",
       "      <td>31_5-7 Eos/03.Directional_Surveys/WELLPATH_COM...</td>\n",
       "      <td>Directional Survey</td>\n",
       "      <td>Computered Well Survey</td>\n",
       "    </tr>\n",
       "    <tr>\n",
       "      <th>2</th>\n",
       "      <td>azure_blob</td>\n",
       "      <td>https://datavillagesa.blob.core.windows.net/no...</td>\n",
       "      <td>sv=2018-03-28&amp;sr=c&amp;sig=ySdG6%2BRmccOC1Eg4H0UlV...</td>\n",
       "      <td>31_5-7 Eos/11.Core_Data/Core_Photos/CORE_PHOTO...</td>\n",
       "      <td>CT Core Photo</td>\n",
       "      <td>Test core photo</td>\n",
       "    </tr>\n",
       "  </tbody>\n",
       "</table>\n",
       "</div>"
      ],
      "text/plain": [
       "   SourceType                                           Endpoint  \\\n",
       "0  azure_blob  https://datavillagesa.blob.core.windows.net/no...   \n",
       "1  azure_blob  https://datavillagesa.blob.core.windows.net/no...   \n",
       "2  azure_blob  https://datavillagesa.blob.core.windows.net/no...   \n",
       "\n",
       "                            AdditionalConnectionInfo  \\\n",
       "0  sv=2018-03-28&sr=c&sig=ySdG6%2BRmccOC1Eg4H0UlV...   \n",
       "1  sv=2018-03-28&sr=c&sig=ySdG6%2BRmccOC1Eg4H0UlV...   \n",
       "2  sv=2018-03-28&sr=c&sig=ySdG6%2BRmccOC1Eg4H0UlV...   \n",
       "\n",
       "                                          SourceName      SourceCategory  \\\n",
       "0  31_5-7 Eos/02.Drilling_and_Completion/CORING_2...         Core Report   \n",
       "1  31_5-7 Eos/03.Directional_Surveys/WELLPATH_COM...  Directional Survey   \n",
       "2  31_5-7 Eos/11.Core_Data/Core_Photos/CORE_PHOTO...       CT Core Photo   \n",
       "\n",
       "                                         Description  \n",
       "0  Operational discussion of the coring data coll...  \n",
       "1                             Computered Well Survey  \n",
       "2                                    Test core photo  "
      ]
     },
     "execution_count": 2,
     "metadata": {},
     "output_type": "execute_result"
    }
   ],
   "source": [
    "# List the available data sources and types\n",
    "df = GetProjectData().list_available_sources()\n",
    "df"
   ]
  },
  {
   "cell_type": "code",
   "execution_count": 3,
   "metadata": {},
   "outputs": [
    {
     "data": {
      "text/plain": [
       "[{'lines': ['OPERATOR     : EQUINOR ENERGY AS\\r',\n",
       "   'WELL         : 31/5-7\\r',\n",
       "   'WELLBORE     : 31/5-7\\r',\n",
       "   'FIELD        : EOS\\r',\n",
       "   'RIG          : WEST HERCULES\\r',\n",
       "   'COUNTRY      : NORWAY\\r',\n",
       "   'DRILL PERMIT#: 1799-L\\r',\n",
       "   '\\r',\n",
       "   '\\r',\n",
       "   '\\r',\n",
       "   'CORE PHOTOS: CT SCAN OF WHOLECORE\\r',\n",
       "   '\\r',\n",
       "   'data:\\\\CORE_DATA\\\\CORE_PHOTOS\\\\CORE_PHOTO_CT_M_TOP259200_1.TIF (Original file name: 31_5-7_CT_WHOLECORE_2592,00-2593,00_UNR-XZ-YZ_top.tif)\\r',\n",
       "   'data:\\\\CORE_DATA\\\\CORE_PHOTOS\\\\CORE_PHOTO_CT_M_TOP259200_2.TIF (Original file name: 31_5-7_CT_WHOLECORE_2592,00-2593,00_UNR-XZ-YZ.tif)\\r',\n",
       "   'data:\\\\CORE_DATA\\\\CORE_PHOTOS\\\\CORE_PHOTO_CT_M_TOP259300_1.TIF (Original file name: 31_5-7_CT_WHOLECORE_2593,00-2594,00_UNR-XZ-YZ.tif)\\r',\n",
       "   'data:\\\\CORE_DATA\\\\CORE_PHOTOS\\\\CORE_PHOTO_CT_M_TOP259400_1.TIF (Original file name: 31_5-7_CT_WHOLECORE_2594,00-2594,50_UNR-XZ-YZ.tif)\\r',\n",
       "   'data:\\\\CORE_DATA\\\\CORE_PHOTOS\\\\CORE_PHOTO_CT_M_TOP259450_1.TIF (Original file name: 31_5-7_CT_WHOLECORE_2594,50-2595,18_UNR-XZ-YZ.tif)\\r',\n",
       "   'data:\\\\CORE_DATA\\\\CORE_PHOTOS\\\\CORE_PHOTO_CT_M_TOP264300_1.TIF (Original file name: 31_5-7_CT_WHOLECORE_2643,00-2644,00_UNR-XZ-YZ_top.tif)\\r',\n",
       "   'data:\\\\CORE_DATA\\\\CORE_PHOTOS\\\\CORE_PHOTO_CT_M_TOP264300_2.TIF (Original file name: 31_5-7_CT_WHOLECORE_2643,00-2644,00_UNR-XZ-YZ.tif)\\r',\n",
       "   'data:\\\\CORE_DATA\\\\CORE_PHOTOS\\\\CORE_PHOTO_CT_M_TOP264400_1.TIF (Original file name: 31_5-7_CT_WHOLECORE_2644,00-2645,00_UNR-XZ-YZ.tif)\\r',\n",
       "   'data:\\\\CORE_DATA\\\\CORE_PHOTOS\\\\CORE_PHOTO_CT_M_TOP264500_1.TIF (Original file name: 31_5-7_CT_WHOLECORE_2645,00-2646,00_UNR-XZ-YZ.tif)\\r',\n",
       "   'data:\\\\CORE_DATA\\\\CORE_PHOTOS\\\\CORE_PHOTO_CT_M_TOP264600_1.TIF (Original file name: 31_5-7_CT_WHOLECORE_2646,00-2647,00_UNR-XZ-YZ.tif)\\r',\n",
       "   'data:\\\\CORE_DATA\\\\CORE_PHOTOS\\\\CORE_PHOTO_CT_M_TOP264700_1.TIF (Original file name: 31_5-7_CT_WHOLECORE_2647,00-2648,00_UNR-XZ-YZ.tif)\\r',\n",
       "   'data:\\\\CORE_DATA\\\\CORE_PHOTOS\\\\CORE_PHOTO_CT_M_TOP264800_1.TIF (Original file name: 31_5-7_CT_WHOLECORE_2648,00-2649,00_UNR-XZ-YZ.tif)\\r',\n",
       "   'data:\\\\CORE_DATA\\\\CORE_PHOTOS\\\\CORE_PHOTO_CT_M_TOP264900_1.TIF (Original file name: 31_5-7_CT_WHOLECORE_2649,00-2650,00_UNR-XZ-YZ.tif)\\r',\n",
       "   'data:\\\\CORE_DATA\\\\CORE_PHOTOS\\\\CORE_PHOTO_CT_M_TOP270900_1.TIF (Original file name: 31_5-7_CT_WHOLECORE_2709,00-2710,00_UNR-XZ-YZ_top.tif)\\r',\n",
       "   'data:\\\\CORE_DATA\\\\CORE_PHOTOS\\\\CORE_PHOTO_CT_M_TOP270900_2.TIF (Original file name: 31_5-7_CT_WHOLECORE_2709,00-2710,00_UNR-XZ-YZ.tif)\\r',\n",
       "   'data:\\\\CORE_DATA\\\\CORE_PHOTOS\\\\CORE_PHOTO_CT_M_TOP271000_1.TIF (Original file name: 31_5-7_CT_WHOLECORE_2710,00-2711,00_UNR-XZ-YZ.tif)\\r',\n",
       "   'data:\\\\CORE_DATA\\\\CORE_PHOTOS\\\\CORE_PHOTO_CT_M_TOP271100_1.TIF (Original file name: 31_5-7_CT_WHOLECORE_2711,00-2712,00_UNR-XZ-YZ.tif)\\r',\n",
       "   'data:\\\\CORE_DATA\\\\CORE_PHOTOS\\\\CORE_PHOTO_CT_M_TOP271200_1.TIF (Original file name: 31_5-7_CT_WHOLECORE_2712,00-2713,00_UNR-XZ-YZ.tif)\\r',\n",
       "   'data:\\\\CORE_DATA\\\\CORE_PHOTOS\\\\CORE_PHOTO_CT_M_TOP271300_1.TIF (Original file name: 31_5-7_CT_WHOLECORE_2713,00-2714,00_UNR-XZ-YZ.tif)\\r',\n",
       "   'data:\\\\CORE_DATA\\\\CORE_PHOTOS\\\\CORE_PHOTO_CT_M_TOP271400_1.TIF (Original file name: 31_5-7_CT_WHOLECORE_2714,00-2715,00_UNR-XZ-YZ.tif)\\r',\n",
       "   'data:\\\\CORE_DATA\\\\CORE_PHOTOS\\\\CORE_PHOTO_CT_M_TOP271500_1.TIF (Original file name: 31_5-7_CT_WHOLECORE_2715,00-2716,00_UNR-XZ-YZ.tif)\\r',\n",
       "   'data:\\\\CORE_DATA\\\\CORE_PHOTOS\\\\CORE_PHOTO_CT_M_TOP271600_1.TIF (Original file name: 31_5-7_CT_WHOLECORE_2716,00-2717,00_UNR-XZ-YZ.tif)\\r',\n",
       "   'data:\\\\CORE_DATA\\\\CORE_PHOTOS\\\\CORE_PHOTO_CT_M_TOP271700_1.TIF (Original file name: 31_5-7_CT_WHOLECORE_2717,00-2718,00_UNR-XZ-YZ.tif)\\r',\n",
       "   'data:\\\\CORE_DATA\\\\CORE_PHOTOS\\\\CORE_PHOTO_CT_M_TOP271800_1.TIF (Original file name: 31_5-7_CT_WHOLECORE_2718,00-2719,00_UNR-XZ-YZ.tif)\\r',\n",
       "   'data:\\\\CORE_DATA\\\\CORE_PHOTOS\\\\CORE_PHOTO_CT_M_TOP271900_1.TIF (Original file name: 31_5-7_CT_WHOLECORE_2719,00-2720,00_UNR-XZ-YZ.tif)\\r',\n",
       "   'data:\\\\CORE_DATA\\\\CORE_PHOTOS\\\\CORE_PHOTO_CT_M_TOP272000_1.TIF (Original file name: 31_5-7_CT_WHOLECORE_2720,00-2721,00_UNR-XZ-YZ.tif)\\r',\n",
       "   'data:\\\\CORE_DATA\\\\CORE_PHOTOS\\\\CORE_PHOTO_CT_M_TOP272100_1.TIF (Original file name: 31_5-7_CT_WHOLECORE_2721,00-2722,00_UNR-XZ-YZ.tif)\\r',\n",
       "   'data:\\\\CORE_DATA\\\\CORE_PHOTOS\\\\CORE_PHOTO_CT_M_TOP272200_1.TIF (Original file name: 31_5-7_CT_WHOLECORE_2722,00-2723,00_UNR-XZ-YZ.tif)\\r',\n",
       "   'data:\\\\CORE_DATA\\\\CORE_PHOTOS\\\\CORE_PHOTO_CT_M_TOP272300_1.TIF (Original file name: 31_5-7_CT_WHOLECORE_2723,00-2724,00_UNR-XZ-YZ.tif)\\r',\n",
       "   'data:\\\\CORE_DATA\\\\CORE_PHOTOS\\\\CORE_PHOTO_CT_M_TOP272400_1.TIF (Original file name: 31_5-7_CT_WHOLECORE_2724,00-2725,00_UNR-XZ-YZ.tif)\\r',\n",
       "   'data:\\\\CORE_DATA\\\\CORE_PHOTOS\\\\CORE_PHOTO_CT_M_TOP272500_1.TIF (Original file name: 31_5-7_CT_WHOLECORE_2725,00-2726,00_UNR-XZ-YZ.tif)\\r',\n",
       "   'data:\\\\CORE_DATA\\\\CORE_PHOTOS\\\\CORE_PHOTO_CT_M_TOP272600_1.TIF (Original file name: 31_5-7_CT_WHOLECORE_2726,00-2727,00_UNR-XZ-YZ.tif)\\r',\n",
       "   'data:\\\\CORE_DATA\\\\CORE_PHOTOS\\\\CORE_PHOTO_CT_M_TOP272700_1.TIF (Original file name: 31_5-7_CT_WHOLECORE_2727,00-2728,00_UNR-XZ-YZ.tif)\\r',\n",
       "   'data:\\\\CORE_DATA\\\\CORE_PHOTOS\\\\CORE_PHOTO_CT_M_TOP272800_1.TIF (Original file name: 31_5-7_CT_WHOLECORE_2728,00-2729,00_UNR-XZ-YZ.tif)\\r',\n",
       "   'data:\\\\CORE_DATA\\\\CORE_PHOTOS\\\\CORE_PHOTO_CT_M_TOP272900_1.TIF (Original file name: 31_5-7_CT_WHOLECORE_2729,00-2730,00_UNR-XZ-YZ.tif)\\r',\n",
       "   'data:\\\\CORE_DATA\\\\CORE_PHOTOS\\\\CORE_PHOTO_CT_M_TOP273000_1.TIF (Original file name: 31_5-7_CT_WHOLECORE_2730,00-2731,00_UNR-XZ-YZ.tif)\\r',\n",
       "   'data:\\\\CORE_DATA\\\\CORE_PHOTOS\\\\CORE_PHOTO_CT_M_TOP273100_1.TIF (Original file name: 31_5-7_CT_WHOLECORE_2731,00-2732,00_UNR-XZ-YZ.tif)\\r',\n",
       "   'data:\\\\CORE_DATA\\\\CORE_PHOTOS\\\\CORE_PHOTO_CT_M_TOP273200_1.TIF (Original file name: 31_5-7_CT_WHOLECORE_2732,00-2733,00_UNR-XZ-YZ.tif)\\r',\n",
       "   'data:\\\\CORE_DATA\\\\CORE_PHOTOS\\\\CORE_PHOTO_CT_M_TOP273300_1.TIF (Original file name: 31_5-7_CT_WHOLECORE_2733,00-2734,00_UNR-XZ-YZ.tif)\\r',\n",
       "   'data:\\\\CORE_DATA\\\\CORE_PHOTOS\\\\CORE_PHOTO_CT_M_TOP273400_1.TIF (Original file name: 31_5-7_CT_WHOLECORE_2734,00-2735,00_UNR-XZ-YZ.tif)\\r',\n",
       "   'data:\\\\CORE_DATA\\\\CORE_PHOTOS\\\\CORE_PHOTO_CT_M_TOP273500_1.TIF (Original file name: 31_5-7_CT_WHOLECORE_2735,00-2736,00_UNR-XZ-YZ.tif)\\r',\n",
       "   'data:\\\\CORE_DATA\\\\CORE_PHOTOS\\\\CORE_PHOTO_CT_M_TOP273600_1.TIF (Original file name: 31_5-7_CT_WHOLECORE_2736,00-2737,00_UNR-XZ-YZ.tif)\\r',\n",
       "   'data:\\\\CORE_DATA\\\\CORE_PHOTOS\\\\CORE_PHOTO_CT_M_TOP273700_1.TIF (Original file name: 31_5-7_CT_WHOLECORE_2737,00-2738,00_UNR-XZ-YZ.tif)\\r',\n",
       "   'data:\\\\CORE_DATA\\\\CORE_PHOTOS\\\\CORE_PHOTO_CT_M_TOP273800_1.TIF (Original file name: 31_5-7_CT_WHOLECORE_2738,00-2739,00_UNR-XZ-YZ.tif)\\r',\n",
       "   'data:\\\\CORE_DATA\\\\CORE_PHOTOS\\\\CORE_PHOTO_CT_M_TOP273900_1.TIF (Original file name: 31_5-7_CT_WHOLECORE_2739,00-2740,00_UNR-XZ-YZ.tif)\\r',\n",
       "   'data:\\\\CORE_DATA\\\\CORE_PHOTOS\\\\CORE_PHOTO_CT_M_TOP274000_1.TIF (Original file name: 31_5-7_CT_WHOLECORE_2740,00-2741,00_UNR-XZ-YZ.tif)\\r',\n",
       "   'data:\\\\CORE_DATA\\\\CORE_PHOTOS\\\\CORE_PHOTO_CT_M_TOP274100_1.TIF (Original file name: 31_5-7_CT_WHOLECORE_2741,00-2742,00_UNR-XZ-YZ.tif)\\r',\n",
       "   'data:\\\\CORE_DATA\\\\CORE_PHOTOS\\\\CORE_PHOTO_CT_M_TOP274200_1.TIF (Original file name: 31_5-7_CT_WHOLECORE_2742,00-2743,00_UNR-XZ-YZ.tif)\\r',\n",
       "   'data:\\\\CORE_DATA\\\\CORE_PHOTOS\\\\CORE_PHOTO_CT_M_TOP274300_1.TIF (Original file name: 31_5-7_CT_WHOLECORE_2743,00-2743,70_UNR-XZ-YZ.tif)\\r',\n",
       "   'data:\\\\CORE_DATA\\\\CORE_PHOTOS\\\\CORE_PHOTO_CT_M_TOP274370_1.TIF (Original file name: 31_5-7_CT_WHOLECORE_2743,70-2744,28_UNR-XZ-YZ.tif)\\r',\n",
       "   'data:\\\\CORE_DATA\\\\CORE_PHOTOS\\\\CORE_PHOTO_CT_M_TOP274700_1.TIF (Original file name: 31_5-7_CT_WHOLECORE_2747,00-2748,00_UNR-XZ-YZ_top.tif)\\r',\n",
       "   'data:\\\\CORE_DATA\\\\CORE_PHOTOS\\\\CORE_PHOTO_CT_M_TOP274700_2.TIF (Original file name: 31_5-7_CT_WHOLECORE_2747,00-2748,00_UNR-XZ-YZ.tif)\\r',\n",
       "   'data:\\\\CORE_DATA\\\\CORE_PHOTOS\\\\CORE_PHOTO_CT_M_TOP274800_1.TIF (Original file name: 31_5-7_CT_WHOLECORE_2748,00-2749,00_UNR-XZ-YZ.tif)\\r',\n",
       "   'data:\\\\CORE_DATA\\\\CORE_PHOTOS\\\\CORE_PHOTO_CT_M_TOP274900_1.TIF (Original file name: 31_5-7_CT_WHOLECORE_2749,00-2750,00_UNR-XZ-YZ.tif)\\r',\n",
       "   'data:\\\\CORE_DATA\\\\CORE_PHOTOS\\\\CORE_PHOTO_CT_M_TOP275000_1.TIF (Original file name: 31_5-7_CT_WHOLECORE_2750,00-2751,00_UNR-XZ-YZ.tif)\\r',\n",
       "   'data:\\\\CORE_DATA\\\\CORE_PHOTOS\\\\CORE_PHOTO_CT_M_TOP275100_1.TIF (Original file name: 31_5-7_CT_WHOLECORE_2751,00-2752,00_UNR-XZ-YZ.tif)\\r',\n",
       "   'data:\\\\CORE_DATA\\\\CORE_PHOTOS\\\\CORE_PHOTO_CT_M_TOP275200_1.TIF (Original file name: 31_5-7_CT_WHOLECORE_2752,00-2753,00_UNR-XZ-YZ.tif)\\r',\n",
       "   'data:\\\\CORE_DATA\\\\CORE_PHOTOS\\\\CORE_PHOTO_CT_M_TOP275300_1.TIF (Original file name: 31_5-7_CT_WHOLECORE_2753,00-2754,00_UNR-XZ-YZ.tif)\\r',\n",
       "   'data:\\\\CORE_DATA\\\\CORE_PHOTOS\\\\CORE_PHOTO_CT_M_TOP275400_1.TIF (Original file name: 31_5-7_CT_WHOLECORE_2754,00-2755,00_UNR-XZ-YZ.tif)\\r',\n",
       "   'data:\\\\CORE_DATA\\\\CORE_PHOTOS\\\\CORE_PHOTO_CT_M_TOP275500_1.TIF (Original file name: 31_5-7_CT_WHOLECORE_2755,00-2756,00_UNR-XZ-YZ.tif)\\r',\n",
       "   'data:\\\\CORE_DATA\\\\CORE_PHOTOS\\\\CORE_PHOTO_CT_M_TOP275600_1.TIF (Original file name: 31_5-7_CT_WHOLECORE_2756,00-2757,00_UNR-XZ-YZ.tif)\\r',\n",
       "   'data:\\\\CORE_DATA\\\\CORE_PHOTOS\\\\CORE_PHOTO_CT_M_TOP275700_1.TIF (Original file name: 31_5-7_CT_WHOLECORE_2757,00-2758,00_UNR-XZ-YZ.tif)\\r',\n",
       "   'data:\\\\CORE_DATA\\\\CORE_PHOTOS\\\\CORE_PHOTO_CT_M_TOP275800_1.TIF (Original file name: 31_5-7_CT_WHOLECORE_2758,00-2759,00_UNR-XZ-YZ.tif)\\r',\n",
       "   'data:\\\\CORE_DATA\\\\CORE_PHOTOS\\\\CORE_PHOTO_CT_M_TOP275900_1.TIF (Original file name: 31_5-7_CT_WHOLECORE_2759,00-2760,00_UNR-XZ-YZ.tif)\\r',\n",
       "   'data:\\\\CORE_DATA\\\\CORE_PHOTOS\\\\CORE_PHOTO_CT_M_TOP276000_1.TIF (Original file name: 31_5-7_CT_WHOLECORE_2760,00-2761,00_UNR-XZ-YZ.tif)\\r',\n",
       "   'data:\\\\CORE_DATA\\\\CORE_PHOTOS\\\\CORE_PHOTO_CT_M_TOP276100_1.TIF (Original file name: 31_5-7_CT_WHOLECORE_2761,00-2762,00_UNR-XZ-YZ.tif)\\r',\n",
       "   'data:\\\\CORE_DATA\\\\CORE_PHOTOS\\\\CORE_PHOTO_CT_M_TOP276200_1.TIF (Original file name: 31_5-7_CT_WHOLECORE_2762,00-2763,00_UNR-XZ-YZ.tif)\\r',\n",
       "   'data:\\\\CORE_DATA\\\\CORE_PHOTOS\\\\CORE_PHOTO_CT_M_TOP276300_1.TIF (Original file name: 31_5-7_CT_WHOLECORE_2763,00-2764,00_UNR-XZ-YZ.tif)\\r',\n",
       "   'data:\\\\CORE_DATA\\\\CORE_PHOTOS\\\\CORE_PHOTO_CT_M_TOP276400_1.TIF (Original file name: 31_5-7_CT_WHOLECORE_2764,00-2765,00_UNR-XZ-YZ.tif)\\r',\n",
       "   'data:\\\\CORE_DATA\\\\CORE_PHOTOS\\\\CORE_PHOTO_CT_M_TOP276500_1.TIF (Original file name: 31_5-7_CT_WHOLECORE_2765,00-2766,00_UNR-XZ-YZ.tif)\\r',\n",
       "   'data:\\\\CORE_DATA\\\\CORE_PHOTOS\\\\CORE_PHOTO_CT_M_TOP276600_1.TIF (Original file name: 31_5-7_CT_WHOLECORE_2766,00-2767,00_UNR-XZ-YZ.tif)\\r',\n",
       "   'data:\\\\CORE_DATA\\\\CORE_PHOTOS\\\\CORE_PHOTO_CT_M_TOP276700_1.TIF (Original file name: 31_5-7_CT_WHOLECORE_2767,00-2768,00_UNR-XZ-YZ.tif)\\r',\n",
       "   'data:\\\\CORE_DATA\\\\CORE_PHOTOS\\\\CORE_PHOTO_CT_M_TOP276800_1.TIF (Original file name: 31_5-7_CT_WHOLECORE_2768,00-2769,00_UNR-XZ-YZ.tif)\\r',\n",
       "   'data:\\\\CORE_DATA\\\\CORE_PHOTOS\\\\CORE_PHOTO_CT_M_TOP276900_1.TIF (Original file name: 31_5-7_CT_WHOLECORE_2769,00-2770,00_UNR-XZ-YZ.tif)\\r',\n",
       "   'data:\\\\CORE_DATA\\\\CORE_PHOTOS\\\\CORE_PHOTO_CT_M_TOP277000_1.TIF (Original file name: 31_5-7_CT_WHOLECORE_2770,00-2771,00_UNR-XZ-YZ.tif)\\r',\n",
       "   'data:\\\\CORE_DATA\\\\CORE_PHOTOS\\\\CORE_PHOTO_CT_M_TOP277100_1.TIF (Original file name: 31_5-7_CT_WHOLECORE_2771,00-2772,00_UNR-XZ-YZ.tif)\\r',\n",
       "   'data:\\\\CORE_DATA\\\\CORE_PHOTOS\\\\CORE_PHOTO_CT_M_TOP277200_1.TIF (Original file name: 31_5-7_CT_WHOLECORE_2772,00-2773,00_UNR-XZ-YZ.tif)\\r',\n",
       "   'data:\\\\CORE_DATA\\\\CORE_PHOTOS\\\\CORE_PHOTO_CT_M_TOP277300_1.TIF (Original file name: 31_5-7_CT_WHOLECORE_2773,00-2774,00_UNR-XZ-YZ.tif)\\r',\n",
       "   'data:\\\\CORE_DATA\\\\CORE_PHOTOS\\\\CORE_PHOTO_CT_M_TOP277400_1.TIF (Original file name: 31_5-7_CT_WHOLECORE_2774,00-2775,00_UNR-XZ-YZ.tif)\\r',\n",
       "   'data:\\\\CORE_DATA\\\\CORE_PHOTOS\\\\CORE_PHOTO_CT_M_TOP277500_1.TIF (Original file name: 31_5-7_CT_WHOLECORE_2775,00-2776,00_UNR-XZ-YZ.tif)\\r',\n",
       "   'data:\\\\CORE_DATA\\\\CORE_PHOTOS\\\\CORE_PHOTO_CT_M_TOP277600_1.TIF (Original file name: 31_5-7_CT_WHOLECORE_2776,00-2777,00_UNR-XZ-YZ.tif)\\r',\n",
       "   'data:\\\\CORE_DATA\\\\CORE_PHOTOS\\\\CORE_PHOTO_CT_M_TOP277700_1.TIF (Original file name: 31_5-7_CT_WHOLECORE_2777,00-2778,00_UNR-XZ-YZ.tif)\\r',\n",
       "   'data:\\\\CORE_DATA\\\\CORE_PHOTOS\\\\CORE_PHOTO_CT_M_TOP277800_1.TIF (Original file name: 31_5-7_CT_WHOLECORE_2778,00-2779,00_UNR-XZ-YZ.tif)\\r',\n",
       "   'data:\\\\CORE_DATA\\\\CORE_PHOTOS\\\\CORE_PHOTO_CT_M_TOP277900_1.TIF (Original file name: 31_5-7_CT_WHOLECORE_2779,00-2780,00_UNR-XZ-YZ.tif)\\r',\n",
       "   'data:\\\\CORE_DATA\\\\CORE_PHOTOS\\\\CORE_PHOTO_CT_M_TOP278000_1.TIF (Original file name: 31_5-7_CT_WHOLECORE_2780,00-2780,90_UNR-XZ-YZ.tif)\\r',\n",
       "   '']}]"
      ]
     },
     "execution_count": 3,
     "metadata": {},
     "output_type": "execute_result"
    }
   ],
   "source": [
    "data = GetProjectData().get_data_with_name('31_5-7 Eos/11.Core_Data/Core_Photos/CORE_PHOTO_CT_M_INF_1.ASC')\n",
    "data"
   ]
  },
  {
   "cell_type": "code",
   "execution_count": 2,
   "metadata": {
    "pycharm": {
     "name": "#%%\n"
    }
   },
   "outputs": [
    {
     "name": "stdout",
     "output_type": "stream",
     "text": [
      "page 23 failed!\n",
      "dict_keys([0, 1, 2, 3, 4, 5, 6, 7, 8, 9, 10, 11, 12, 13, 14, 15, 16, 17, 18, 19, 20, 21])\n"
     ]
    }
   ],
   "source": [
    "core_report_text = GetProjectData().get_data_of_type('Core Report')\n",
    "print(core_report_text[0].keys())"
   ]
  },
  {
   "cell_type": "code",
   "execution_count": null,
   "metadata": {},
   "outputs": [],
   "source": []
  }
 ],
 "metadata": {
  "kernelspec": {
   "display_name": "Python 3",
   "language": "python",
   "name": "python3"
  },
  "language_info": {
   "codemirror_mode": {
    "name": "ipython",
    "version": 3
   },
   "file_extension": ".py",
   "mimetype": "text/x-python",
   "name": "python",
   "nbconvert_exporter": "python",
   "pygments_lexer": "ipython3",
   "version": "3.8.2"
  }
 },
 "nbformat": 4,
 "nbformat_minor": 1
}
